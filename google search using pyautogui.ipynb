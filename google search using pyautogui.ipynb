{
 "cells": [
  {
   "cell_type": "code",
   "execution_count": 1,
   "metadata": {},
   "outputs": [],
   "source": [
    "import pyautogui\n",
    "import re\n",
    "from scrapy.selector import Selector\n",
    "from selenium import webdriver\n",
    "from selenium.webdriver.chrome.options import Options\n",
    "from time import sleep"
   ]
  },
  {
   "cell_type": "code",
   "execution_count": 15,
   "metadata": {},
   "outputs": [],
   "source": [
    "def driver_run():\n",
    "    #Driver Initilizaton\n",
    "    #####################################################################################################\n",
    "    try:\n",
    "        chrome_options = Options()\n",
    "        PROXY = \"109.251.252.123:50171\"\n",
    "        #user_agent = 'Mozilla/5.0 (Windows NT 10.0; Win64; x64) AppleWebKit/537.36 (KHTML, like Gecko) Chrome/84.0.4147.125 Safari/537.36'\n",
    "        #chrome_options.add_argument('user-agent = user_agent')\n",
    "        chrome_options.add_argument('--proxy-server=%s' % PROXY)\n",
    "        chrome_options.add_argument('--incognito')\n",
    "        driver = webdriver.Chrome('C:\\\\Users\\dashc\\Desktop\\mera_bacha.exe',chrome_options= chrome_options)\n",
    "        driver.get('https://google.com')\n",
    "        #driver.maximize_window()\n",
    "    except Exception as e:\n",
    "        print('something wrong in driver open on google search:',e)\n",
    "    "
   ]
  },
  {
   "cell_type": "code",
   "execution_count": 16,
   "metadata": {},
   "outputs": [
    {
     "name": "stderr",
     "output_type": "stream",
     "text": [
      "C:\\Users\\dashc\\AppData\\Local\\Continuum\\anaconda3\\lib\\site-packages\\ipykernel_launcher.py:11: DeprecationWarning: use options instead of chrome_options\n",
      "  # This is added back by InteractiveShellApp.init_path()\n"
     ]
    }
   ],
   "source": [
    "driver_run()"
   ]
  },
  {
   "cell_type": "code",
   "execution_count": 12,
   "metadata": {},
   "outputs": [],
   "source": [
    "name = 'california auto repair $%%%^'"
   ]
  },
  {
   "cell_type": "code",
   "execution_count": 48,
   "metadata": {},
   "outputs": [],
   "source": [
    "def google_search():\n",
    "    #Driver Initilizaton\n",
    "    #####################################################################################################\n",
    "    try:\n",
    "        chrome_options = Options()\n",
    "        # #PROXY = \"167.71.119.18:8118\"\n",
    "        # #user_agent = 'Mozilla/5.0 (Windows NT 10.0; Win64; x64) AppleWebKit/537.36 (KHTML, like Gecko) Chrome/84.0.4147.125 Safari/537.36'\n",
    "        #chrome_options.add_argument(random.choice('user-agent = mobile_user_agent_list'))\n",
    "        #chrome_options.add_argument('--proxy-server=%s' % PROXY)\n",
    "        chrome_options.add_argument('--incognito')\n",
    "        driver = webdriver.Chrome('C:\\\\Users\\dashc\\Desktop\\mera_bacha.exe',chrome_options= chrome_options)\n",
    "        #driver.maximize_window()\n",
    "    except Exception as e:\n",
    "        print('something wrong in driver open on google search:',e)\n",
    "    \n",
    "    ##############################################################################################################\n",
    "    #Automation Code\n",
    "    #########################################################################################################\n",
    "    try: \n",
    "        pyautogui.click(299,70)\n",
    "        pyautogui.typewrite('google.com',interval=0.07)\n",
    "        pyautogui.press('enter')\n",
    "        sleep(1)\n",
    "        pyautogui.typewrite(re.sub('[^a-zA-Z]',' ',name).strip() + ' ' + 'site:zoominfo.com',interval=0.08)\n",
    "        pyautogui.press('enter')\n",
    "        sleep(1)\n",
    "        page = Selector(text = driver.page_source)\n",
    "        print(page.xpath(\"//*[@class='r']/a/@href\").extract_first())\n",
    "    except Exception as e:\n",
    "        print('someting went wrong with google automation:',e)"
   ]
  },
  {
   "cell_type": "code",
   "execution_count": 54,
   "metadata": {},
   "outputs": [
    {
     "name": "stderr",
     "output_type": "stream",
     "text": [
      "C:\\Users\\dashc\\AppData\\Local\\Continuum\\anaconda3\\lib\\site-packages\\ipykernel_launcher.py:11: DeprecationWarning: use options instead of chrome_options\n",
      "  # This is added back by InteractiveShellApp.init_path()\n"
     ]
    },
    {
     "name": "stdout",
     "output_type": "stream",
     "text": [
      "https://www.zoominfo.com/c/auto-repair-sacramento-ca/446787426\n",
      "Wall time: 9.59 s\n"
     ]
    }
   ],
   "source": [
    "\n",
    "%%time\n",
    "google_search()"
   ]
  },
  {
   "cell_type": "code",
   "execution_count": 18,
   "metadata": {},
   "outputs": [],
   "source": [
    "page.xpath()"
   ]
  },
  {
   "cell_type": "code",
   "execution_count": 23,
   "metadata": {},
   "outputs": [
    {
     "data": {
      "text/plain": [
       "'california auto repair'"
      ]
     },
     "execution_count": 23,
     "metadata": {},
     "output_type": "execute_result"
    }
   ],
   "source": [
    "re.sub('[^a-zA-Z]',' ',name).strip()"
   ]
  },
  {
   "cell_type": "code",
   "execution_count": 2,
   "metadata": {},
   "outputs": [],
   "source": [
    "from googlesearch import get_page\n",
    "from googlesearch import get_random_user_agent"
   ]
  },
  {
   "cell_type": "code",
   "execution_count": 19,
   "metadata": {},
   "outputs": [],
   "source": [
    "page = get_page('http://dashclicks.com',user_agent=get_random_user_agent(),verify_ssl=False)"
   ]
  },
  {
   "cell_type": "code",
   "execution_count": 20,
   "metadata": {},
   "outputs": [],
   "source": [
    "from googlesearch import ssl"
   ]
  },
  {
   "cell_type": "code",
   "execution_count": 39,
   "metadata": {},
   "outputs": [
    {
     "ename": "AttributeError",
     "evalue": "'bytes' object has no attribute 'content'",
     "output_type": "error",
     "traceback": [
      "\u001b[1;31m---------------------------------------------------------------------------\u001b[0m",
      "\u001b[1;31mAttributeError\u001b[0m                            Traceback (most recent call last)",
      "\u001b[1;32m<ipython-input-39-ab468f91a963>\u001b[0m in \u001b[0;36m<module>\u001b[1;34m\u001b[0m\n\u001b[1;32m----> 1\u001b[1;33m \u001b[0mpage\u001b[0m\u001b[1;33m.\u001b[0m\u001b[0mcontent\u001b[0m\u001b[1;33m\u001b[0m\u001b[1;33m\u001b[0m\u001b[0m\n\u001b[0m",
      "\u001b[1;31mAttributeError\u001b[0m: 'bytes' object has no attribute 'content'"
     ]
    }
   ],
   "source": [
    "page.content"
   ]
  },
  {
   "cell_type": "code",
   "execution_count": 24,
   "metadata": {},
   "outputs": [],
   "source": [
    "from googlesearch import cookie_jar"
   ]
  },
  {
   "cell_type": "code",
   "execution_count": 38,
   "metadata": {},
   "outputs": [
    {
     "ename": "AttributeError",
     "evalue": "'bytes' object has no attribute 'google'",
     "output_type": "error",
     "traceback": [
      "\u001b[1;31m---------------------------------------------------------------------------\u001b[0m",
      "\u001b[1;31mAttributeError\u001b[0m                            Traceback (most recent call last)",
      "\u001b[1;32m<ipython-input-38-51f3e2e3e45f>\u001b[0m in \u001b[0;36m<module>\u001b[1;34m\u001b[0m\n\u001b[1;32m----> 1\u001b[1;33m \u001b[0mpage\u001b[0m\u001b[1;33m.\u001b[0m\u001b[0mtitle\u001b[0m\u001b[1;33m(\u001b[0m\u001b[1;33m)\u001b[0m\u001b[1;33m.\u001b[0m\u001b[0mgoogle\u001b[0m\u001b[1;33m-\u001b[0m\u001b[0mcookie\u001b[0m\u001b[1;33m\u001b[0m\u001b[1;33m\u001b[0m\u001b[0m\n\u001b[0m",
      "\u001b[1;31mAttributeError\u001b[0m: 'bytes' object has no attribute 'google'"
     ]
    }
   ],
   "source": []
  },
  {
   "cell_type": "code",
   "execution_count": null,
   "metadata": {},
   "outputs": [],
   "source": []
  }
 ],
 "metadata": {
  "kernelspec": {
   "display_name": "Python 3",
   "language": "python",
   "name": "python3"
  },
  "language_info": {
   "codemirror_mode": {
    "name": "ipython",
    "version": 3
   },
   "file_extension": ".py",
   "mimetype": "text/x-python",
   "name": "python",
   "nbconvert_exporter": "python",
   "pygments_lexer": "ipython3",
   "version": "3.7.3"
  }
 },
 "nbformat": 4,
 "nbformat_minor": 2
}

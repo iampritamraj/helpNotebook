{
 "cells": [
  {
   "cell_type": "markdown",
   "metadata": {},
   "source": [
    "[documentation](https://pillow.readthedocs.io/en/stable/)"
   ]
  },
  {
   "cell_type": "code",
   "execution_count": 6,
   "metadata": {},
   "outputs": [],
   "source": [
    "from PIL import Image as image \n",
    "import PIL as pil"
   ]
  },
  {
   "cell_type": "markdown",
   "metadata": {},
   "source": [
    "- [Downloading image with PIL and requests](https://stackoverflow.com/questions/37751877/downloading-image-with-pil-and-requests)"
   ]
  },
  {
   "cell_type": "code",
   "execution_count": 7,
   "metadata": {},
   "outputs": [],
   "source": [
    "\n",
    "\n",
    "# git code help\n",
    "# import os\n",
    "# import io\n",
    "# import requests\n",
    "# from PIL import Image\n",
    "# import tempfile\n",
    "\n",
    "# buffer = tempfile.SpooledTemporaryFile(max_size=1e9)\n",
    "# r = requests.get(img_url, stream=True)\n",
    "# if r.status_code == 200:\n",
    "#     downloaded = 0\n",
    "#     filesize = int(r.headers['content-length'])\n",
    "#     for chunk in r.iter_content():\n",
    "#         downloaded += len(chunk)\n",
    "#         buffer.write(chunk)\n",
    "#         print(downloaded/filesize)\n",
    "#     buffer.seek(0)\n",
    "#     i = Image.open(io.BytesIO(buffer.read()))\n",
    "#     i.save(os.path.join(out_dir, 'image.jpg'), quality=85)\n",
    "# buffer.close()"
   ]
  },
  {
   "cell_type": "code",
   "execution_count": null,
   "metadata": {},
   "outputs": [],
   "source": []
  }
 ],
 "metadata": {
  "kernelspec": {
   "display_name": "Python 3",
   "language": "python",
   "name": "python3"
  },
  "language_info": {
   "codemirror_mode": {
    "name": "ipython",
    "version": 3
   },
   "file_extension": ".py",
   "mimetype": "text/x-python",
   "name": "python",
   "nbconvert_exporter": "python",
   "pygments_lexer": "ipython3",
   "version": "3.7.6"
  }
 },
 "nbformat": 4,
 "nbformat_minor": 4
}

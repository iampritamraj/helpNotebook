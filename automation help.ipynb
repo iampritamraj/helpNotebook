{
 "cells": [
  {
   "cell_type": "code",
   "execution_count": 1,
   "metadata": {},
   "outputs": [],
   "source": [
    "import pyautogui"
   ]
  },
  {
   "cell_type": "code",
   "execution_count": 4,
   "metadata": {},
   "outputs": [
    {
     "name": "stdout",
     "output_type": "stream",
     "text": [
      "['FAILSAFE', 'FAILSAFE_POINTS', 'FailSafeException', 'G_LOG_SCREENSHOTS_FILENAMES', 'ImageNotFoundException', 'KEYBOARD_KEYS', 'KEY_NAMES', 'LEFT', 'LOG_SCREENSHOTS', 'LOG_SCREENSHOTS_LIMIT', 'MIDDLE', 'MINIMUM_DURATION', 'MINIMUM_SLEEP', 'PAUSE', 'PRIMARY', 'Point', 'PyAutoGUIException', 'QWERTY', 'QWERTZ', 'RIGHT', 'SECONDARY', 'Size', 'Window', '__builtins__', '__cached__', '__doc__', '__file__', '__loader__', '__name__', '__package__', '__path__', '__spec__', '__version__', '_bottom', '_genericPyAutoGUIChecks', '_getCommaToken', '_getNumberToken', '_getParensCommandStrToken', '_getQuotedStringToken', '_handlePause', '_logScreenshot', '_mouseMoveDrag', '_normalizeButton', '_normalizeXYArgs', '_pyautogui_win', '_right', '_runCommandList', '_snapshot', '_tokenizeCommandStr', 'absolute_import', 'alert', 'center', 'click', 'collections', 'collectionsSequence', 'confirm', 'countdown', 'datetime', 'displayMousePosition', 'division', 'doubleClick', 'drag', 'dragRel', 'dragTo', 'easeInBack', 'easeInBounce', 'easeInCirc', 'easeInCubic', 'easeInElastic', 'easeInExpo', 'easeInOutBack', 'easeInOutBounce', 'easeInOutCirc', 'easeInOutCubic', 'easeInOutElastic', 'easeInOutExpo', 'easeInOutQuad', 'easeInOutQuart', 'easeInOutQuint', 'easeInOutSine', 'easeInQuad', 'easeInQuart', 'easeInQuint', 'easeInSine', 'easeOutBack', 'easeOutBounce', 'easeOutCirc', 'easeOutCubic', 'easeOutElastic', 'easeOutExpo', 'easeOutQuad', 'easeOutQuart', 'easeOutQuint', 'easeOutSine', 'failSafeCheck', 'functools', 'getActiveWindow', 'getActiveWindowTitle', 'getAllTitles', 'getAllWindows', 'getInfo', 'getPointOnLine', 'getWindowsAt', 'getWindowsWithTitle', 'grab', 'hotkey', 'hscroll', 'inspect', 'isShiftCharacter', 'isValidKey', 'keyDown', 'keyUp', 'leftClick', 'linear', 'locate', 'locateAll', 'locateAllOnScreen', 'locateCenterOnScreen', 'locateOnScreen', 'middleClick', 'mouseDown', 'mouseInfo', 'mouseUp', 'mouseinfo', 'move', 'moveRel', 'moveTo', 'onScreen', 'os', 'password', 'pixel', 'pixelMatchesColor', 'platform', 'platformModule', 'position', 'press', 'printInfo', 'print_function', 'prompt', 'pyscreeze', 'raisePyAutoGUIImageNotFoundException', 're', 'rightClick', 'run', 'screenshot', 'scroll', 'size', 'sleep', 'sys', 'time', 'tripleClick', 'typewrite', 'useImageNotFoundException', 'vscroll', 'write']\n"
     ]
    }
   ],
   "source": [
    "print(dir(pyautogui))"
   ]
  },
  {
   "cell_type": "code",
   "execution_count": 5,
   "metadata": {},
   "outputs": [],
   "source": [
    "from pyautogui import KEYBOARD_KEYS"
   ]
  },
  {
   "cell_type": "code",
   "execution_count": 6,
   "metadata": {},
   "outputs": [
    {
     "name": "stdout",
     "output_type": "stream",
     "text": [
      "['__add__', '__class__', '__contains__', '__delattr__', '__delitem__', '__dir__', '__doc__', '__eq__', '__format__', '__ge__', '__getattribute__', '__getitem__', '__gt__', '__hash__', '__iadd__', '__imul__', '__init__', '__init_subclass__', '__iter__', '__le__', '__len__', '__lt__', '__mul__', '__ne__', '__new__', '__reduce__', '__reduce_ex__', '__repr__', '__reversed__', '__rmul__', '__setattr__', '__setitem__', '__sizeof__', '__str__', '__subclasshook__', 'append', 'clear', 'copy', 'count', 'extend', 'index', 'insert', 'pop', 'remove', 'reverse', 'sort']\n"
     ]
    }
   ],
   "source": [
    "print(dir(KEYBOARD_KEYS))"
   ]
  },
  {
   "cell_type": "markdown",
   "metadata": {
    "collapsed": true
   },
   "source": [
    "pyautogui.displayMousePosition()"
   ]
  },
  {
   "cell_type": "code",
   "execution_count": 11,
   "metadata": {},
   "outputs": [],
   "source": [
    "from time import sleep\n",
    "sleep(10)\n",
    "for i in range(3):\n",
    "    pyautogui.moveTo(100,100,duration=0.5)\n",
    "    pyautogui.moveTo(200,100,duration=0.5)\n",
    "    pyautogui.moveTo(300,100,duration=0.5)\n",
    "pyautogui.click(100,245)"
   ]
  },
  {
   "cell_type": "code",
   "execution_count": 12,
   "metadata": {},
   "outputs": [
    {
     "data": {
      "text/plain": [
       "Point(x=2139, y=702)"
      ]
     },
     "execution_count": 12,
     "metadata": {},
     "output_type": "execute_result"
    }
   ],
   "source": [
    "pyautogui.position()"
   ]
  },
  {
   "cell_type": "code",
   "execution_count": 13,
   "metadata": {},
   "outputs": [
    {
     "data": {
      "text/plain": [
       "Size(width=1600, height=900)"
      ]
     },
     "execution_count": 13,
     "metadata": {},
     "output_type": "execute_result"
    }
   ],
   "source": [
    "pyautogui.size()"
   ]
  },
  {
   "cell_type": "code",
   "execution_count": 21,
   "metadata": {},
   "outputs": [],
   "source": [
    "pyautogui.FAILSAFE = True"
   ]
  },
  {
   "cell_type": "code",
   "execution_count": 4,
   "metadata": {},
   "outputs": [
    {
     "ename": "AttributeError",
     "evalue": "'NoneType' object has no attribute 'click'",
     "output_type": "error",
     "traceback": [
      "\u001b[1;31m---------------------------------------------------------------------------\u001b[0m",
      "\u001b[1;31mAttributeError\u001b[0m                            Traceback (most recent call last)",
      "\u001b[1;32m<ipython-input-4-6c737428043e>\u001b[0m in \u001b[0;36m<module>\u001b[1;34m\u001b[0m\n\u001b[1;32m----> 1\u001b[1;33m \u001b[0mpyautogui\u001b[0m\u001b[1;33m.\u001b[0m\u001b[0mmoveTo\u001b[0m\u001b[1;33m(\u001b[0m\u001b[0mx\u001b[0m\u001b[1;33m=\u001b[0m\u001b[1;36m2198\u001b[0m\u001b[1;33m,\u001b[0m \u001b[0my\u001b[0m\u001b[1;33m=\u001b[0m\u001b[1;36m448\u001b[0m\u001b[1;33m)\u001b[0m\u001b[1;33m.\u001b[0m\u001b[0mclick\u001b[0m\u001b[1;33m\u001b[0m\u001b[1;33m\u001b[0m\u001b[0m\n\u001b[0m",
      "\u001b[1;31mAttributeError\u001b[0m: 'NoneType' object has no attribute 'click'"
     ]
    }
   ],
   "source": [
    "pyautogui.moveTo(x=2198, y=448)"
   ]
  },
  {
   "cell_type": "code",
   "execution_count": 27,
   "metadata": {},
   "outputs": [],
   "source": [
    "pyautogui.scroll(3,x=624,y=493)"
   ]
  },
  {
   "cell_type": "code",
   "execution_count": 11,
   "metadata": {},
   "outputs": [],
   "source": [
    "#pyautogui.moveTo(x=2198, y=448)\n",
    "from time import sleep\n",
    "sleep(1)\n",
    "pyautogui.click(x=2198, y=448)\n",
    "#sleep(2)\n",
    "pyautogui.typewrite('hello dear',interval= 0.2)\n",
    "pyautogui.click(x=2299, y=513)"
   ]
  },
  {
   "cell_type": "markdown",
   "metadata": {},
   "source": [
    "## Random test"
   ]
  },
  {
   "cell_type": "code",
   "execution_count": 31,
   "metadata": {},
   "outputs": [
    {
     "name": "stdout",
     "output_type": "stream",
     "text": [
      "need to continue\n"
     ]
    }
   ],
   "source": [
    "var = pyautogui.confirm(text='Press \"OK\" to continue', title='Choice', buttons=['OK', 'Cancel'],icon=32)\n",
    "if var == \"OK\":\n",
    "    print('need to continue')\n",
    "else:\n",
    "    print('have a good day')\n"
   ]
  },
  {
   "cell_type": "code",
   "execution_count": null,
   "metadata": {},
   "outputs": [],
   "source": []
  }
 ],
 "metadata": {
  "kernelspec": {
   "display_name": "Python 3",
   "language": "python",
   "name": "python3"
  },
  "language_info": {
   "codemirror_mode": {
    "name": "ipython",
    "version": 3
   },
   "file_extension": ".py",
   "mimetype": "text/x-python",
   "name": "python",
   "nbconvert_exporter": "python",
   "pygments_lexer": "ipython3",
   "version": "3.7.6"
  }
 },
 "nbformat": 4,
 "nbformat_minor": 2
}
